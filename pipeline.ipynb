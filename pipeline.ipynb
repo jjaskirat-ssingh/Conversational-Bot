{
 "cells": [
  {
   "cell_type": "code",
   "execution_count": 4,
   "id": "439c97be-5223-4b62-8457-c84953d9ccbd",
   "metadata": {
    "tags": []
   },
   "outputs": [],
   "source": [
    "!pip install -q nltk\n",
    "!pip install -q spacy \n",
    "!pip install -q tabulate"
   ]
  },
  {
   "cell_type": "code",
   "execution_count": 15,
   "id": "e9d0e55f-2a80-4f6e-8807-0035630aad93",
   "metadata": {
    "collapsed": true,
    "jupyter": {
     "outputs_hidden": true
    },
    "tags": []
   },
   "outputs": [
    {
     "name": "stdout",
     "output_type": "stream",
     "text": [
      "Collecting en-core-web-sm==3.4.1\n",
      "  Downloading https://github.com/explosion/spacy-models/releases/download/en_core_web_sm-3.4.1/en_core_web_sm-3.4.1-py3-none-any.whl (12.8 MB)\n",
      "     -------------------------------------- 12.8/12.8 MB 603.0 kB/s eta 0:00:00\n",
      "Requirement already satisfied: spacy<3.5.0,>=3.4.0 in c:\\users\\jaskirat\\appdata\\local\\programs\\python\\python39\\lib\\site-packages (from en-core-web-sm==3.4.1) (3.4.2)\n",
      "Requirement already satisfied: tqdm<5.0.0,>=4.38.0 in c:\\users\\jaskirat\\appdata\\local\\programs\\python\\python39\\lib\\site-packages (from spacy<3.5.0,>=3.4.0->en-core-web-sm==3.4.1) (4.64.1)\n",
      "Requirement already satisfied: wasabi<1.1.0,>=0.9.1 in c:\\users\\jaskirat\\appdata\\local\\programs\\python\\python39\\lib\\site-packages (from spacy<3.5.0,>=3.4.0->en-core-web-sm==3.4.1) (0.10.1)\n",
      "Requirement already satisfied: packaging>=20.0 in c:\\users\\jaskirat\\appdata\\roaming\\python\\python39\\site-packages (from spacy<3.5.0,>=3.4.0->en-core-web-sm==3.4.1) (21.3)\n",
      "Requirement already satisfied: thinc<8.2.0,>=8.1.0 in c:\\users\\jaskirat\\appdata\\local\\programs\\python\\python39\\lib\\site-packages (from spacy<3.5.0,>=3.4.0->en-core-web-sm==3.4.1) (8.1.5)\n",
      "Requirement already satisfied: setuptools in c:\\users\\jaskirat\\appdata\\local\\programs\\python\\python39\\lib\\site-packages (from spacy<3.5.0,>=3.4.0->en-core-web-sm==3.4.1) (49.2.1)\n",
      "Requirement already satisfied: langcodes<4.0.0,>=3.2.0 in c:\\users\\jaskirat\\appdata\\local\\programs\\python\\python39\\lib\\site-packages (from spacy<3.5.0,>=3.4.0->en-core-web-sm==3.4.1) (3.3.0)\n",
      "Requirement already satisfied: numpy>=1.15.0 in c:\\users\\jaskirat\\appdata\\local\\programs\\python\\python39\\lib\\site-packages (from spacy<3.5.0,>=3.4.0->en-core-web-sm==3.4.1) (1.20.2)\n",
      "Requirement already satisfied: spacy-loggers<2.0.0,>=1.0.0 in c:\\users\\jaskirat\\appdata\\local\\programs\\python\\python39\\lib\\site-packages (from spacy<3.5.0,>=3.4.0->en-core-web-sm==3.4.1) (1.0.3)\n",
      "Requirement already satisfied: requests<3.0.0,>=2.13.0 in c:\\users\\jaskirat\\appdata\\local\\programs\\python\\python39\\lib\\site-packages (from spacy<3.5.0,>=3.4.0->en-core-web-sm==3.4.1) (2.28.1)\n",
      "Requirement already satisfied: jinja2 in c:\\users\\jaskirat\\appdata\\local\\programs\\python\\python39\\lib\\site-packages (from spacy<3.5.0,>=3.4.0->en-core-web-sm==3.4.1) (3.1.2)\n",
      "Requirement already satisfied: murmurhash<1.1.0,>=0.28.0 in c:\\users\\jaskirat\\appdata\\local\\programs\\python\\python39\\lib\\site-packages (from spacy<3.5.0,>=3.4.0->en-core-web-sm==3.4.1) (1.0.9)\n",
      "Requirement already satisfied: typer<0.5.0,>=0.3.0 in c:\\users\\jaskirat\\appdata\\local\\programs\\python\\python39\\lib\\site-packages (from spacy<3.5.0,>=3.4.0->en-core-web-sm==3.4.1) (0.4.2)\n",
      "Requirement already satisfied: spacy-legacy<3.1.0,>=3.0.10 in c:\\users\\jaskirat\\appdata\\local\\programs\\python\\python39\\lib\\site-packages (from spacy<3.5.0,>=3.4.0->en-core-web-sm==3.4.1) (3.0.10)\n",
      "Requirement already satisfied: srsly<3.0.0,>=2.4.3 in c:\\users\\jaskirat\\appdata\\local\\programs\\python\\python39\\lib\\site-packages (from spacy<3.5.0,>=3.4.0->en-core-web-sm==3.4.1) (2.4.5)\n",
      "Requirement already satisfied: preshed<3.1.0,>=3.0.2 in c:\\users\\jaskirat\\appdata\\local\\programs\\python\\python39\\lib\\site-packages (from spacy<3.5.0,>=3.4.0->en-core-web-sm==3.4.1) (3.0.8)\n",
      "Requirement already satisfied: pydantic!=1.8,!=1.8.1,<1.11.0,>=1.7.4 in c:\\users\\jaskirat\\appdata\\local\\programs\\python\\python39\\lib\\site-packages (from spacy<3.5.0,>=3.4.0->en-core-web-sm==3.4.1) (1.10.2)\n",
      "Requirement already satisfied: cymem<2.1.0,>=2.0.2 in c:\\users\\jaskirat\\appdata\\local\\programs\\python\\python39\\lib\\site-packages (from spacy<3.5.0,>=3.4.0->en-core-web-sm==3.4.1) (2.0.7)\n",
      "Requirement already satisfied: pathy>=0.3.5 in c:\\users\\jaskirat\\appdata\\local\\programs\\python\\python39\\lib\\site-packages (from spacy<3.5.0,>=3.4.0->en-core-web-sm==3.4.1) (0.6.2)\n",
      "Requirement already satisfied: catalogue<2.1.0,>=2.0.6 in c:\\users\\jaskirat\\appdata\\local\\programs\\python\\python39\\lib\\site-packages (from spacy<3.5.0,>=3.4.0->en-core-web-sm==3.4.1) (2.0.8)\n",
      "Requirement already satisfied: pyparsing!=3.0.5,>=2.0.2 in c:\\users\\jaskirat\\appdata\\local\\programs\\python\\python39\\lib\\site-packages (from packaging>=20.0->spacy<3.5.0,>=3.4.0->en-core-web-sm==3.4.1) (3.0.6)\n",
      "Requirement already satisfied: smart-open<6.0.0,>=5.2.1 in c:\\users\\jaskirat\\appdata\\local\\programs\\python\\python39\\lib\\site-packages (from pathy>=0.3.5->spacy<3.5.0,>=3.4.0->en-core-web-sm==3.4.1) (5.2.1)\n",
      "Requirement already satisfied: typing-extensions>=4.1.0 in c:\\users\\jaskirat\\appdata\\local\\programs\\python\\python39\\lib\\site-packages (from pydantic!=1.8,!=1.8.1,<1.11.0,>=1.7.4->spacy<3.5.0,>=3.4.0->en-core-web-sm==3.4.1) (4.4.0)\n",
      "Requirement already satisfied: idna<4,>=2.5 in c:\\users\\jaskirat\\appdata\\local\\programs\\python\\python39\\lib\\site-packages (from requests<3.0.0,>=2.13.0->spacy<3.5.0,>=3.4.0->en-core-web-sm==3.4.1) (3.4)\n",
      "Requirement already satisfied: charset-normalizer<3,>=2 in c:\\users\\jaskirat\\appdata\\local\\programs\\python\\python39\\lib\\site-packages (from requests<3.0.0,>=2.13.0->spacy<3.5.0,>=3.4.0->en-core-web-sm==3.4.1) (2.1.1)\n",
      "Requirement already satisfied: urllib3<1.27,>=1.21.1 in c:\\users\\jaskirat\\appdata\\local\\programs\\python\\python39\\lib\\site-packages (from requests<3.0.0,>=2.13.0->spacy<3.5.0,>=3.4.0->en-core-web-sm==3.4.1) (1.26.12)\n",
      "Requirement already satisfied: certifi>=2017.4.17 in c:\\users\\jaskirat\\appdata\\local\\programs\\python\\python39\\lib\\site-packages (from requests<3.0.0,>=2.13.0->spacy<3.5.0,>=3.4.0->en-core-web-sm==3.4.1) (2022.9.24)\n",
      "Requirement already satisfied: blis<0.8.0,>=0.7.8 in c:\\users\\jaskirat\\appdata\\local\\programs\\python\\python39\\lib\\site-packages (from thinc<8.2.0,>=8.1.0->spacy<3.5.0,>=3.4.0->en-core-web-sm==3.4.1) (0.7.9)\n",
      "Requirement already satisfied: confection<1.0.0,>=0.0.1 in c:\\users\\jaskirat\\appdata\\local\\programs\\python\\python39\\lib\\site-packages (from thinc<8.2.0,>=8.1.0->spacy<3.5.0,>=3.4.0->en-core-web-sm==3.4.1) (0.0.3)\n",
      "Requirement already satisfied: colorama in c:\\users\\jaskirat\\appdata\\local\\programs\\python\\python39\\lib\\site-packages (from tqdm<5.0.0,>=4.38.0->spacy<3.5.0,>=3.4.0->en-core-web-sm==3.4.1) (0.4.4)\n",
      "Requirement already satisfied: click<9.0.0,>=7.1.1 in c:\\users\\jaskirat\\appdata\\local\\programs\\python\\python39\\lib\\site-packages (from typer<0.5.0,>=0.3.0->spacy<3.5.0,>=3.4.0->en-core-web-sm==3.4.1) (8.1.3)\n",
      "Requirement already satisfied: MarkupSafe>=2.0 in c:\\users\\jaskirat\\appdata\\local\\programs\\python\\python39\\lib\\site-packages (from jinja2->spacy<3.5.0,>=3.4.0->en-core-web-sm==3.4.1) (2.1.1)\n",
      "Installing collected packages: en-core-web-sm\n",
      "Successfully installed en-core-web-sm-3.4.1\n",
      "[!] As of spaCy v3.0, shortcuts like 'en' are deprecated. Please use the full\n",
      "pipeline package name 'en_core_web_sm' instead.\n",
      "[+] Download and installation successful\n",
      "You can now load the package via spacy.load('en_core_web_sm')\n"
     ]
    },
    {
     "name": "stderr",
     "output_type": "stream",
     "text": [
      "2022-11-05 18:10:21.422291: W tensorflow/stream_executor/platform/default/dso_loader.cc:64] Could not load dynamic library 'cudart64_110.dll'; dlerror: cudart64_110.dll not found\n",
      "2022-11-05 18:10:21.422334: I tensorflow/stream_executor/cuda/cudart_stub.cc:29] Ignore above cudart dlerror if you do not have a GPU set up on your machine.\n",
      "2022-11-05 18:10:24.357041: W tensorflow/stream_executor/platform/default/dso_loader.cc:64] Could not load dynamic library 'cudart64_110.dll'; dlerror: cudart64_110.dll not found\n",
      "2022-11-05 18:10:24.358765: W tensorflow/stream_executor/platform/default/dso_loader.cc:64] Could not load dynamic library 'cublas64_11.dll'; dlerror: cublas64_11.dll not found\n",
      "2022-11-05 18:10:24.360417: W tensorflow/stream_executor/platform/default/dso_loader.cc:64] Could not load dynamic library 'cublasLt64_11.dll'; dlerror: cublasLt64_11.dll not found\n",
      "2022-11-05 18:10:24.362064: W tensorflow/stream_executor/platform/default/dso_loader.cc:64] Could not load dynamic library 'cufft64_10.dll'; dlerror: cufft64_10.dll not found\n",
      "2022-11-05 18:10:24.363707: W tensorflow/stream_executor/platform/default/dso_loader.cc:64] Could not load dynamic library 'curand64_10.dll'; dlerror: curand64_10.dll not found\n",
      "2022-11-05 18:10:24.365356: W tensorflow/stream_executor/platform/default/dso_loader.cc:64] Could not load dynamic library 'cusolver64_11.dll'; dlerror: cusolver64_11.dll not found\n",
      "2022-11-05 18:10:24.367135: W tensorflow/stream_executor/platform/default/dso_loader.cc:64] Could not load dynamic library 'cusparse64_11.dll'; dlerror: cusparse64_11.dll not found\n",
      "2022-11-05 18:10:24.368766: W tensorflow/stream_executor/platform/default/dso_loader.cc:64] Could not load dynamic library 'cudnn64_8.dll'; dlerror: cudnn64_8.dll not found\n",
      "2022-11-05 18:10:24.368788: W tensorflow/core/common_runtime/gpu/gpu_device.cc:1934] Cannot dlopen some GPU libraries. Please make sure the missing libraries mentioned above are installed properly if you would like to use GPU. Follow the guide at https://www.tensorflow.org/install/gpu for how to download and setup the required libraries for your platform.\n",
      "Skipping registering GPU devices...\n"
     ]
    }
   ],
   "source": [
    "!python -m spacy download en"
   ]
  },
  {
   "cell_type": "code",
   "execution_count": 5,
   "id": "315be476-4c71-499a-929f-9be716506137",
   "metadata": {},
   "outputs": [
    {
     "name": "stderr",
     "output_type": "stream",
     "text": [
      "[nltk_data] Downloading package punkt to\n",
      "[nltk_data]     C:\\Users\\Jaskirat\\AppData\\Roaming\\nltk_data...\n",
      "[nltk_data]   Package punkt is already up-to-date!\n",
      "[nltk_data] Downloading package averaged_perceptron_tagger to\n",
      "[nltk_data]     C:\\Users\\Jaskirat\\AppData\\Roaming\\nltk_data...\n",
      "[nltk_data]   Package averaged_perceptron_tagger is already up-to-\n",
      "[nltk_data]       date!\n"
     ]
    },
    {
     "data": {
      "text/plain": [
       "True"
      ]
     },
     "execution_count": 5,
     "metadata": {},
     "output_type": "execute_result"
    }
   ],
   "source": [
    "import nltk\n",
    "nltk.download('punkt')\n",
    "nltk.download('averaged_perceptron_tagger')"
   ]
  },
  {
   "cell_type": "code",
   "execution_count": 19,
   "id": "8ca54321-dc39-41cd-9cbd-7709a42fec3a",
   "metadata": {},
   "outputs": [],
   "source": [
    "from collections import Counter\n",
    "import spacy\n",
    "from tabulate import tabulate\n",
    "nlp = spacy.load('en_core_web_sm')"
   ]
  },
  {
   "cell_type": "markdown",
   "id": "edfa42fb-524e-480a-9002-ffc0883118e3",
   "metadata": {},
   "source": [
    "## Pipeline Flow: \n",
    "### Initial Steps:\n",
    "- Sentence Tokenization\n",
    "- Word Tokenization\n",
    "- Part-of-Speech Tagging\n",
    "- Extracting nouns and verbs"
   ]
  },
  {
   "cell_type": "code",
   "execution_count": 9,
   "id": "a206d089-41b7-49d4-a560-9a4512116575",
   "metadata": {},
   "outputs": [],
   "source": [
    "text = u\"\"\"\n",
    "Dealing with textual data is very crucial so to handle these text data we need some \n",
    "basic text processing steps. Most of the processing steps covered in this section are \n",
    "commonly used in NLP and involve the combination of several steps into a single \n",
    "executable flow. This is usually referred to as the NLP pipeline. These flow \n",
    "can be a combination of tokenization, stemming, word frequency, parts of \n",
    "speech tagging, etc.\n",
    "\"\"\"\n",
    "\n",
    "sentences = nltk.sent_tokenize(text)\n",
    "\n",
    "words = [nltk.word_tokenize(s) for s in sentences]\n",
    "\n",
    "tagged_wt = [nltk.pos_tag(w)for w in words]\n",
    "\n",
    "patternPOS= []\n",
    "for tag in tagged_wt:\n",
    "    patternPOS.append([v for k,v in tag])\n",
    "\n",
    "nouns = []  \n",
    "for tag in tagged_wt:\n",
    "    nouns.append([k for k,v in tag if v in ['NN','NNS','NNP','NNPS']])\n",
    "\n",
    "verbs = []  \n",
    "for tag in tagged_wt:\n",
    "    verbs.append([k for k,v in tag if v in ['VB','VBD','VBG','VBN','VBP','VBZ']])"
   ]
  },
  {
   "cell_type": "code",
   "execution_count": 12,
   "id": "8e625679-1f02-48e3-8c36-cb1c5542f6a7",
   "metadata": {},
   "outputs": [
    {
     "name": "stdout",
     "output_type": "stream",
     "text": [
      "Sentences:  ['\\nDealing with textual data is very crucial so to handle these text data we need some \\nbasic text processing steps.', 'Most of the processing steps covered in this section are \\ncommonly used in NLP and involve the combination of several steps into a single \\nexecutable flow.', 'This is usually referred to as the NLP pipeline.', 'These flow \\ncan be a combination of tokenization, stemming, word frequency, parts of \\nspeech tagging, etc.']\n",
      "\n",
      "\n",
      "Words:  [['Dealing', 'with', 'textual', 'data', 'is', 'very', 'crucial', 'so', 'to', 'handle', 'these', 'text', 'data', 'we', 'need', 'some', 'basic', 'text', 'processing', 'steps', '.'], ['Most', 'of', 'the', 'processing', 'steps', 'covered', 'in', 'this', 'section', 'are', 'commonly', 'used', 'in', 'NLP', 'and', 'involve', 'the', 'combination', 'of', 'several', 'steps', 'into', 'a', 'single', 'executable', 'flow', '.'], ['This', 'is', 'usually', 'referred', 'to', 'as', 'the', 'NLP', 'pipeline', '.'], ['These', 'flow', 'can', 'be', 'a', 'combination', 'of', 'tokenization', ',', 'stemming', ',', 'word', 'frequency', ',', 'parts', 'of', 'speech', 'tagging', ',', 'etc', '.']]\n",
      "\n",
      "\n",
      "POS:  [[('Dealing', 'VBG'), ('with', 'IN'), ('textual', 'JJ'), ('data', 'NNS'), ('is', 'VBZ'), ('very', 'RB'), ('crucial', 'JJ'), ('so', 'RB'), ('to', 'TO'), ('handle', 'VB'), ('these', 'DT'), ('text', 'JJ'), ('data', 'NN'), ('we', 'PRP'), ('need', 'VBP'), ('some', 'DT'), ('basic', 'JJ'), ('text', 'NN'), ('processing', 'NN'), ('steps', 'NNS'), ('.', '.')], [('Most', 'JJS'), ('of', 'IN'), ('the', 'DT'), ('processing', 'NN'), ('steps', 'NNS'), ('covered', 'VBN'), ('in', 'IN'), ('this', 'DT'), ('section', 'NN'), ('are', 'VBP'), ('commonly', 'RB'), ('used', 'VBN'), ('in', 'IN'), ('NLP', 'NNP'), ('and', 'CC'), ('involve', 'VB'), ('the', 'DT'), ('combination', 'NN'), ('of', 'IN'), ('several', 'JJ'), ('steps', 'NNS'), ('into', 'IN'), ('a', 'DT'), ('single', 'JJ'), ('executable', 'JJ'), ('flow', 'NN'), ('.', '.')], [('This', 'DT'), ('is', 'VBZ'), ('usually', 'RB'), ('referred', 'VBN'), ('to', 'TO'), ('as', 'IN'), ('the', 'DT'), ('NLP', 'NNP'), ('pipeline', 'NN'), ('.', '.')], [('These', 'DT'), ('flow', 'NN'), ('can', 'MD'), ('be', 'VB'), ('a', 'DT'), ('combination', 'NN'), ('of', 'IN'), ('tokenization', 'NN'), (',', ','), ('stemming', 'VBG'), (',', ','), ('word', 'NN'), ('frequency', 'NN'), (',', ','), ('parts', 'NNS'), ('of', 'IN'), ('speech', 'NN'), ('tagging', 'NN'), (',', ','), ('etc', 'FW'), ('.', '.')]]\n",
      "\n",
      "\n",
      "POS pattern:  [['VBG', 'IN', 'JJ', 'NNS', 'VBZ', 'RB', 'JJ', 'RB', 'TO', 'VB', 'DT', 'JJ', 'NN', 'PRP', 'VBP', 'DT', 'JJ', 'NN', 'NN', 'NNS', '.'], ['JJS', 'IN', 'DT', 'NN', 'NNS', 'VBN', 'IN', 'DT', 'NN', 'VBP', 'RB', 'VBN', 'IN', 'NNP', 'CC', 'VB', 'DT', 'NN', 'IN', 'JJ', 'NNS', 'IN', 'DT', 'JJ', 'JJ', 'NN', '.'], ['DT', 'VBZ', 'RB', 'VBN', 'TO', 'IN', 'DT', 'NNP', 'NN', '.'], ['DT', 'NN', 'MD', 'VB', 'DT', 'NN', 'IN', 'NN', ',', 'VBG', ',', 'NN', 'NN', ',', 'NNS', 'IN', 'NN', 'NN', ',', 'FW', '.']]\n",
      "\n",
      "\n",
      "Extracted nouns:  [['data', 'data', 'text', 'processing', 'steps'], ['processing', 'steps', 'section', 'NLP', 'combination', 'steps', 'flow'], ['NLP', 'pipeline'], ['flow', 'combination', 'tokenization', 'word', 'frequency', 'parts', 'speech', 'tagging']]\n",
      "\n",
      "\n",
      "Extracted verbs:  [['Dealing', 'is', 'handle', 'need'], ['covered', 'are', 'used', 'involve'], ['is', 'referred'], ['be', 'stemming']]\n"
     ]
    }
   ],
   "source": [
    "print(\"Sentences: \", sentences)\n",
    "print(\"\\n\\nWords: \", words)\n",
    "print(\"\\n\\nPOS: \", tagged_wt)\n",
    "print(\"\\n\\nPOS pattern: \",patternPOS)\n",
    "print(\"\\n\\nExtracted nouns: \",nouns)\n",
    "print(\"\\n\\nExtracted verbs: \",verbs)"
   ]
  },
  {
   "cell_type": "code",
   "execution_count": 20,
   "id": "79c139a2-bea3-4170-b24b-57d6cf339295",
   "metadata": {},
   "outputs": [
    {
     "name": "stdout",
     "output_type": "stream",
     "text": [
      "Noun           Count\n",
      "-----------  -------\n",
      "step               3\n",
      "datum              2\n",
      "text               2\n",
      "processing         2\n",
      "combination        2\n"
     ]
    }
   ],
   "source": [
    "doc = nlp(text)\n",
    "noun_counter = Counter(token.lemma_ for token in doc if token.pos_ == 'NOUN')\n",
    "\n",
    "print(tabulate(noun_counter.most_common(5), headers=['Noun', 'Count']))"
   ]
  },
  {
   "cell_type": "markdown",
   "id": "2365be3a-5bd1-44be-8332-d075c4669a8d",
   "metadata": {},
   "source": [
    "### Dependency Parsing"
   ]
  },
  {
   "cell_type": "code",
   "execution_count": 22,
   "id": "b8203933-5e3f-43f6-b127-6fcd7f7cba28",
   "metadata": {},
   "outputs": [
    {
     "data": {
      "text/html": [
       "<span class=\"tex2jax_ignore\"><svg xmlns=\"http://www.w3.org/2000/svg\" xmlns:xlink=\"http://www.w3.org/1999/xlink\" xml:lang=\"en\" id=\"52632a63f2f64da58817fc582cd6715d-0\" class=\"displacy\" width=\"1310\" height=\"347.0\" direction=\"ltr\" style=\"max-width: none; height: 347.0px; color: #000000; background: #ffffff; font-family: Arial; direction: ltr\">\n",
       "<text class=\"displacy-token\" fill=\"currentColor\" text-anchor=\"middle\" y=\"257.0\">\n",
       "    <tspan class=\"displacy-word\" fill=\"currentColor\" x=\"50\">This</tspan>\n",
       "    <tspan class=\"displacy-tag\" dy=\"2em\" fill=\"currentColor\" x=\"50\">PRON</tspan>\n",
       "</text>\n",
       "\n",
       "<text class=\"displacy-token\" fill=\"currentColor\" text-anchor=\"middle\" y=\"257.0\">\n",
       "    <tspan class=\"displacy-word\" fill=\"currentColor\" x=\"190\">is</tspan>\n",
       "    <tspan class=\"displacy-tag\" dy=\"2em\" fill=\"currentColor\" x=\"190\">AUX</tspan>\n",
       "</text>\n",
       "\n",
       "<text class=\"displacy-token\" fill=\"currentColor\" text-anchor=\"middle\" y=\"257.0\">\n",
       "    <tspan class=\"displacy-word\" fill=\"currentColor\" x=\"330\">usually</tspan>\n",
       "    <tspan class=\"displacy-tag\" dy=\"2em\" fill=\"currentColor\" x=\"330\">ADV</tspan>\n",
       "</text>\n",
       "\n",
       "<text class=\"displacy-token\" fill=\"currentColor\" text-anchor=\"middle\" y=\"257.0\">\n",
       "    <tspan class=\"displacy-word\" fill=\"currentColor\" x=\"470\">referred</tspan>\n",
       "    <tspan class=\"displacy-tag\" dy=\"2em\" fill=\"currentColor\" x=\"470\">VERB</tspan>\n",
       "</text>\n",
       "\n",
       "<text class=\"displacy-token\" fill=\"currentColor\" text-anchor=\"middle\" y=\"257.0\">\n",
       "    <tspan class=\"displacy-word\" fill=\"currentColor\" x=\"610\">to</tspan>\n",
       "    <tspan class=\"displacy-tag\" dy=\"2em\" fill=\"currentColor\" x=\"610\">ADP</tspan>\n",
       "</text>\n",
       "\n",
       "<text class=\"displacy-token\" fill=\"currentColor\" text-anchor=\"middle\" y=\"257.0\">\n",
       "    <tspan class=\"displacy-word\" fill=\"currentColor\" x=\"750\">as</tspan>\n",
       "    <tspan class=\"displacy-tag\" dy=\"2em\" fill=\"currentColor\" x=\"750\">ADP</tspan>\n",
       "</text>\n",
       "\n",
       "<text class=\"displacy-token\" fill=\"currentColor\" text-anchor=\"middle\" y=\"257.0\">\n",
       "    <tspan class=\"displacy-word\" fill=\"currentColor\" x=\"890\">the</tspan>\n",
       "    <tspan class=\"displacy-tag\" dy=\"2em\" fill=\"currentColor\" x=\"890\">DET</tspan>\n",
       "</text>\n",
       "\n",
       "<text class=\"displacy-token\" fill=\"currentColor\" text-anchor=\"middle\" y=\"257.0\">\n",
       "    <tspan class=\"displacy-word\" fill=\"currentColor\" x=\"1030\">NLP</tspan>\n",
       "    <tspan class=\"displacy-tag\" dy=\"2em\" fill=\"currentColor\" x=\"1030\">PROPN</tspan>\n",
       "</text>\n",
       "\n",
       "<text class=\"displacy-token\" fill=\"currentColor\" text-anchor=\"middle\" y=\"257.0\">\n",
       "    <tspan class=\"displacy-word\" fill=\"currentColor\" x=\"1170\">pipeline.</tspan>\n",
       "    <tspan class=\"displacy-tag\" dy=\"2em\" fill=\"currentColor\" x=\"1170\">NOUN</tspan>\n",
       "</text>\n",
       "\n",
       "<g class=\"displacy-arrow\">\n",
       "    <path class=\"displacy-arc\" id=\"arrow-52632a63f2f64da58817fc582cd6715d-0-0\" stroke-width=\"2px\" d=\"M70,212.0 C70,2.0 470.0,2.0 470.0,212.0\" fill=\"none\" stroke=\"currentColor\"/>\n",
       "    <text dy=\"1.25em\" style=\"font-size: 0.8em; letter-spacing: 1px\">\n",
       "        <textPath xlink:href=\"#arrow-52632a63f2f64da58817fc582cd6715d-0-0\" class=\"displacy-label\" startOffset=\"50%\" side=\"left\" fill=\"currentColor\" text-anchor=\"middle\">nsubjpass</textPath>\n",
       "    </text>\n",
       "    <path class=\"displacy-arrowhead\" d=\"M70,214.0 L62,202.0 78,202.0\" fill=\"currentColor\"/>\n",
       "</g>\n",
       "\n",
       "<g class=\"displacy-arrow\">\n",
       "    <path class=\"displacy-arc\" id=\"arrow-52632a63f2f64da58817fc582cd6715d-0-1\" stroke-width=\"2px\" d=\"M210,212.0 C210,72.0 465.0,72.0 465.0,212.0\" fill=\"none\" stroke=\"currentColor\"/>\n",
       "    <text dy=\"1.25em\" style=\"font-size: 0.8em; letter-spacing: 1px\">\n",
       "        <textPath xlink:href=\"#arrow-52632a63f2f64da58817fc582cd6715d-0-1\" class=\"displacy-label\" startOffset=\"50%\" side=\"left\" fill=\"currentColor\" text-anchor=\"middle\">auxpass</textPath>\n",
       "    </text>\n",
       "    <path class=\"displacy-arrowhead\" d=\"M210,214.0 L202,202.0 218,202.0\" fill=\"currentColor\"/>\n",
       "</g>\n",
       "\n",
       "<g class=\"displacy-arrow\">\n",
       "    <path class=\"displacy-arc\" id=\"arrow-52632a63f2f64da58817fc582cd6715d-0-2\" stroke-width=\"2px\" d=\"M350,212.0 C350,142.0 460.0,142.0 460.0,212.0\" fill=\"none\" stroke=\"currentColor\"/>\n",
       "    <text dy=\"1.25em\" style=\"font-size: 0.8em; letter-spacing: 1px\">\n",
       "        <textPath xlink:href=\"#arrow-52632a63f2f64da58817fc582cd6715d-0-2\" class=\"displacy-label\" startOffset=\"50%\" side=\"left\" fill=\"currentColor\" text-anchor=\"middle\">advmod</textPath>\n",
       "    </text>\n",
       "    <path class=\"displacy-arrowhead\" d=\"M350,214.0 L342,202.0 358,202.0\" fill=\"currentColor\"/>\n",
       "</g>\n",
       "\n",
       "<g class=\"displacy-arrow\">\n",
       "    <path class=\"displacy-arc\" id=\"arrow-52632a63f2f64da58817fc582cd6715d-0-3\" stroke-width=\"2px\" d=\"M490,212.0 C490,142.0 600.0,142.0 600.0,212.0\" fill=\"none\" stroke=\"currentColor\"/>\n",
       "    <text dy=\"1.25em\" style=\"font-size: 0.8em; letter-spacing: 1px\">\n",
       "        <textPath xlink:href=\"#arrow-52632a63f2f64da58817fc582cd6715d-0-3\" class=\"displacy-label\" startOffset=\"50%\" side=\"left\" fill=\"currentColor\" text-anchor=\"middle\">prep</textPath>\n",
       "    </text>\n",
       "    <path class=\"displacy-arrowhead\" d=\"M600.0,214.0 L608.0,202.0 592.0,202.0\" fill=\"currentColor\"/>\n",
       "</g>\n",
       "\n",
       "<g class=\"displacy-arrow\">\n",
       "    <path class=\"displacy-arc\" id=\"arrow-52632a63f2f64da58817fc582cd6715d-0-4\" stroke-width=\"2px\" d=\"M490,212.0 C490,72.0 745.0,72.0 745.0,212.0\" fill=\"none\" stroke=\"currentColor\"/>\n",
       "    <text dy=\"1.25em\" style=\"font-size: 0.8em; letter-spacing: 1px\">\n",
       "        <textPath xlink:href=\"#arrow-52632a63f2f64da58817fc582cd6715d-0-4\" class=\"displacy-label\" startOffset=\"50%\" side=\"left\" fill=\"currentColor\" text-anchor=\"middle\">prep</textPath>\n",
       "    </text>\n",
       "    <path class=\"displacy-arrowhead\" d=\"M745.0,214.0 L753.0,202.0 737.0,202.0\" fill=\"currentColor\"/>\n",
       "</g>\n",
       "\n",
       "<g class=\"displacy-arrow\">\n",
       "    <path class=\"displacy-arc\" id=\"arrow-52632a63f2f64da58817fc582cd6715d-0-5\" stroke-width=\"2px\" d=\"M910,212.0 C910,72.0 1165.0,72.0 1165.0,212.0\" fill=\"none\" stroke=\"currentColor\"/>\n",
       "    <text dy=\"1.25em\" style=\"font-size: 0.8em; letter-spacing: 1px\">\n",
       "        <textPath xlink:href=\"#arrow-52632a63f2f64da58817fc582cd6715d-0-5\" class=\"displacy-label\" startOffset=\"50%\" side=\"left\" fill=\"currentColor\" text-anchor=\"middle\">det</textPath>\n",
       "    </text>\n",
       "    <path class=\"displacy-arrowhead\" d=\"M910,214.0 L902,202.0 918,202.0\" fill=\"currentColor\"/>\n",
       "</g>\n",
       "\n",
       "<g class=\"displacy-arrow\">\n",
       "    <path class=\"displacy-arc\" id=\"arrow-52632a63f2f64da58817fc582cd6715d-0-6\" stroke-width=\"2px\" d=\"M1050,212.0 C1050,142.0 1160.0,142.0 1160.0,212.0\" fill=\"none\" stroke=\"currentColor\"/>\n",
       "    <text dy=\"1.25em\" style=\"font-size: 0.8em; letter-spacing: 1px\">\n",
       "        <textPath xlink:href=\"#arrow-52632a63f2f64da58817fc582cd6715d-0-6\" class=\"displacy-label\" startOffset=\"50%\" side=\"left\" fill=\"currentColor\" text-anchor=\"middle\">compound</textPath>\n",
       "    </text>\n",
       "    <path class=\"displacy-arrowhead\" d=\"M1050,214.0 L1042,202.0 1058,202.0\" fill=\"currentColor\"/>\n",
       "</g>\n",
       "\n",
       "<g class=\"displacy-arrow\">\n",
       "    <path class=\"displacy-arc\" id=\"arrow-52632a63f2f64da58817fc582cd6715d-0-7\" stroke-width=\"2px\" d=\"M770,212.0 C770,2.0 1170.0,2.0 1170.0,212.0\" fill=\"none\" stroke=\"currentColor\"/>\n",
       "    <text dy=\"1.25em\" style=\"font-size: 0.8em; letter-spacing: 1px\">\n",
       "        <textPath xlink:href=\"#arrow-52632a63f2f64da58817fc582cd6715d-0-7\" class=\"displacy-label\" startOffset=\"50%\" side=\"left\" fill=\"currentColor\" text-anchor=\"middle\">pobj</textPath>\n",
       "    </text>\n",
       "    <path class=\"displacy-arrowhead\" d=\"M1170.0,214.0 L1178.0,202.0 1162.0,202.0\" fill=\"currentColor\"/>\n",
       "</g>\n",
       "</svg></span>"
      ],
      "text/plain": [
       "<IPython.core.display.HTML object>"
      ]
     },
     "metadata": {},
     "output_type": "display_data"
    }
   ],
   "source": [
    "doc = nlp(sentences[2])\n",
    "spacy.displacy.render(doc,style='dep', options={'distance' : 140}, jupyter=True)"
   ]
  },
  {
   "cell_type": "markdown",
   "id": "c90175d6-ae24-4d60-89dd-b1c3d1c315ce",
   "metadata": {},
   "source": [
    "### Named Entity Recognition (NER)"
   ]
  },
  {
   "cell_type": "code",
   "execution_count": 32,
   "id": "b9a50aaf-f80a-494d-8bd7-22800a636c32",
   "metadata": {},
   "outputs": [
    {
     "name": "stdout",
     "output_type": "stream",
     "text": [
      "Entity    Entity Type\n",
      "--------  -------------\n",
      "NLP       ORG\n",
      "\n",
      "Token        IOB Annotation    Entity Type\n",
      "-----------  ----------------  -------------\n",
      "Most         O\n",
      "of           O\n",
      "the          O\n",
      "processing   O\n",
      "steps        O\n",
      "covered      O\n",
      "in           O\n",
      "this         O\n",
      "section      O\n",
      "are          O\n",
      "             O\n",
      "commonly     O\n",
      "used         O\n",
      "in           O\n",
      "NLP          B                 ORG\n",
      "and          O\n",
      "involve      O\n",
      "the          O\n",
      "combination  O\n",
      "of           O\n",
      "several      O\n",
      "steps        O\n",
      "into         O\n",
      "a            O\n",
      "single       O\n",
      "             O\n",
      "executable   O\n",
      "flow         O\n",
      ".            O\n"
     ]
    }
   ],
   "source": [
    "# doc = nlp(\"Hey there! Jaskirat this side. I like NLP.\")\n",
    "doc = nlp(sentences[1])\n",
    "entity_types = ((ent.text, ent.label_) for ent in doc.ents)\n",
    "print(tabulate(entity_types, headers=['Entity', 'Entity Type']))\n",
    "print()\n",
    "token_entity_info = ((token.text, token.ent_iob_, token.ent_type_,) for token in doc)\n",
    "print(tabulate(token_entity_info, headers=['Token', 'IOB Annotation', 'Entity Type']))"
   ]
  },
  {
   "cell_type": "code",
   "execution_count": 33,
   "id": "e39e81fe-ce67-4f07-b10a-f614edf32030",
   "metadata": {},
   "outputs": [
    {
     "name": "stdout",
     "output_type": "stream",
     "text": [
      "Entity    Entity Type\n",
      "--------  -------------\n",
      "Jaskirat  PERSON\n",
      "CS        ORG\n"
     ]
    }
   ],
   "source": [
    "doc = nlp(\"My name is Jaskirat and I am a CS undergrad.\")\n",
    "\n",
    "entity_types = ((ent.text, ent.label_) for ent in doc.ents)\n",
    "print(tabulate(entity_types, headers=['Entity', 'Entity Type']))"
   ]
  },
  {
   "cell_type": "code",
   "execution_count": null,
   "id": "8c1e32cb-9176-4646-8e15-a14ef4c63873",
   "metadata": {},
   "outputs": [],
   "source": []
  }
 ],
 "metadata": {
  "kernelspec": {
   "display_name": "Python 3 (ipykernel)",
   "language": "python",
   "name": "python3"
  },
  "language_info": {
   "codemirror_mode": {
    "name": "ipython",
    "version": 3
   },
   "file_extension": ".py",
   "mimetype": "text/x-python",
   "name": "python",
   "nbconvert_exporter": "python",
   "pygments_lexer": "ipython3",
   "version": "3.9.2"
  }
 },
 "nbformat": 4,
 "nbformat_minor": 5
}
